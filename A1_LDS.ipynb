{
  "nbformat": 4,
  "nbformat_minor": 0,
  "metadata": {
    "colab": {
      "provenance": []
    },
    "kernelspec": {
      "name": "python3",
      "display_name": "Python 3"
    },
    "language_info": {
      "name": "python"
    }
  },
  "cells": [
    {
      "cell_type": "markdown",
      "source": [
        "Q1. Write a program to find all pairs of an integer array whose sum is equal to a given number?"
      ],
      "metadata": {
        "id": "N9Yrttt0xOyv"
      }
    },
    {
      "cell_type": "code",
      "source": [
        "def find_pairs(arr, sum):\n",
        "    n = len(arr)\n",
        "    for i in range(n):\n",
        "        for j in range(i+1, n):\n",
        "            if arr[i] + arr[j] == sum:\n",
        "                print(f\"({arr[i]}, {arr[j]})\")\n",
        "\n",
        "arr = [1, 5, 7, -1, 5]\n",
        "sum = 6\n",
        "find_pairs(arr, sum)\n"
      ],
      "metadata": {
        "colab": {
          "base_uri": "https://localhost:8080/"
        },
        "id": "VIYrz0PWyYLH",
        "outputId": "ce3b6421-0444-449f-ec4d-a47ba5f7ea25"
      },
      "execution_count": null,
      "outputs": [
        {
          "output_type": "stream",
          "name": "stdout",
          "text": [
            "(1, 5)\n",
            "(1, 5)\n",
            "(7, -1)\n"
          ]
        }
      ]
    },
    {
      "cell_type": "markdown",
      "source": [
        "Q2. Write a program to reverse an array in place? In place means you cannot create a new array. You have to update the original array."
      ],
      "metadata": {
        "id": "dBrym3HFyx7B"
      }
    },
    {
      "cell_type": "code",
      "source": [
        "def reverse_array(arr):\n",
        "    start = 0\n",
        "    end = len(arr) - 1\n",
        "    while start < end:\n",
        "        arr[start], arr[end] = arr[end], arr[start]\n",
        "        start += 1\n",
        "        end -= 1\n",
        "\n",
        "# Example usage\n",
        "arr = [1, 2, 3, 4, 5]\n",
        "print(\"Original array:\", arr)\n",
        "reverse_array(arr)\n",
        "print(\"Reversed array:\", arr)"
      ],
      "metadata": {
        "colab": {
          "base_uri": "https://localhost:8080/"
        },
        "id": "izomD8vByX_n",
        "outputId": "b5d977f1-c9a8-445a-d9a1-b6cce3d19a9d"
      },
      "execution_count": null,
      "outputs": [
        {
          "output_type": "stream",
          "name": "stdout",
          "text": [
            "Original array: [1, 2, 3, 4, 5]\n",
            "Reversed array: [5, 4, 3, 2, 1]\n"
          ]
        }
      ]
    },
    {
      "cell_type": "markdown",
      "source": [
        "Q3. Write a program to check if two strings are a rotation of each other?"
      ],
      "metadata": {
        "id": "Tl1Ta1kAzdnP"
      }
    },
    {
      "cell_type": "code",
      "source": [
        "def is_rotation(s1, s2):\n",
        "    if len(s1) != len(s2):\n",
        "        return False\n",
        "    temp = s1 + s1\n",
        "    if s2 in temp:\n",
        "        return True\n",
        "    else:\n",
        "        return False\n",
        "\n",
        "s1 = \"ABCD\"\n",
        "s2 = \"CDAB\"\n",
        "if is_rotation(s1, s2):\n",
        "    print(\"Strings are rotations of each other\")\n",
        "else:\n",
        "    print(\"Strings are not rotations of each other\")"
      ],
      "metadata": {
        "colab": {
          "base_uri": "https://localhost:8080/"
        },
        "id": "inYHuL-AzRHi",
        "outputId": "a8479ab8-036e-4d71-9738-2e0b01c09982"
      },
      "execution_count": null,
      "outputs": [
        {
          "output_type": "stream",
          "name": "stdout",
          "text": [
            "Strings are rotations of each other\n"
          ]
        }
      ]
    },
    {
      "cell_type": "markdown",
      "source": [
        "Q4. Write a program to print the first non-repeated character from a string?"
      ],
      "metadata": {
        "id": "fELWzsEm08bZ"
      }
    },
    {
      "cell_type": "code",
      "source": [
        "def first_non_repeated_character(string):\n",
        "    for char in string:\n",
        "        if string.count(char) == 1:\n",
        "            return char\n",
        "    return None\n",
        "\n",
        "string = \"hello world\"\n",
        "result = first_non_repeated_character(string)\n",
        "\n",
        "if result is not None:\n",
        "    print(f\"The first non-repeated character in '{string}' is '{result}'.\")\n",
        "else:\n",
        "    print(f\"There are no non-repeated characters in '{string}'.\")\n"
      ],
      "metadata": {
        "id": "Pk9df7vC0zLX",
        "colab": {
          "base_uri": "https://localhost:8080/"
        },
        "outputId": "e2610204-4494-4b89-ebd5-083df4320ac7"
      },
      "execution_count": 1,
      "outputs": [
        {
          "output_type": "stream",
          "name": "stdout",
          "text": [
            "The first non-repeated character in 'hello world' is 'h'.\n"
          ]
        }
      ]
    },
    {
      "cell_type": "markdown",
      "source": [
        "Q5. Read about the Tower of Hanoi algorithm. Write a program to implement it.\n"
      ],
      "metadata": {
        "id": "PWVU8ktlyuQ3"
      }
    },
    {
      "cell_type": "code",
      "source": [
        "def tower_of_hanoi(num, source, dest, helper):\n",
        "    if num == 1:\n",
        "        print(\"Move disk 1 from\", source, \"to\", dest)\n",
        "        return\n",
        "    tower_of_hanoi(num - 1, source, helper, dest)\n",
        "    print(\"Move disk\", num, \"from\", source, \"to\", dest)\n",
        "    tower_of_hanoi(num - 1, helper, dest, source)\n",
        "\n",
        "# Example usage\n",
        "num_disks = 3\n",
        "tower_of_hanoi(num_disks, \"A\", \"C\", \"B\")\n"
      ],
      "metadata": {
        "colab": {
          "base_uri": "https://localhost:8080/"
        },
        "id": "H90x_QhPy-UO",
        "outputId": "e899ce03-9c56-4d5a-ca8a-d5b6d984aaa9"
      },
      "execution_count": 2,
      "outputs": [
        {
          "output_type": "stream",
          "name": "stdout",
          "text": [
            "Move disk 1 from A to C\n",
            "Move disk 2 from A to B\n",
            "Move disk 1 from C to B\n",
            "Move disk 3 from A to C\n",
            "Move disk 1 from B to A\n",
            "Move disk 2 from B to C\n",
            "Move disk 1 from A to C\n"
          ]
        }
      ]
    },
    {
      "cell_type": "markdown",
      "source": [
        "\n",
        "Q6. Read about infix, prefix, and postfix expressions. Write a program to convert postfix to prefix expression.\n"
      ],
      "metadata": {
        "id": "tysP9cwgyv9H"
      }
    },
    {
      "cell_type": "code",
      "source": [
        "def postfix_to_prefix(postfix):\n",
        "    stack = []\n",
        "    for char in postfix:\n",
        "        if char.isalnum():\n",
        "            stack.append(char)\n",
        "        else:\n",
        "            operand1 = stack.pop()\n",
        "            operand2 = stack.pop()\n",
        "            stack.append(char + operand2 + operand1)\n",
        "    return stack.pop()\n",
        "\n",
        "postfix = \"23+4*\"\n",
        "prefix = postfix_to_prefix(postfix)\n",
        "\n",
        "print(f\"The prefix expression of '{postfix}' is '{prefix}'.\")\n"
      ],
      "metadata": {
        "colab": {
          "base_uri": "https://localhost:8080/"
        },
        "id": "9qgBuK4Ly_Oe",
        "outputId": "704ea58d-ddbb-4877-fa9c-a9c31ec7ca78"
      },
      "execution_count": 3,
      "outputs": [
        {
          "output_type": "stream",
          "name": "stdout",
          "text": [
            "The prefix expression of '23+4*' is '*+234'.\n"
          ]
        }
      ]
    },
    {
      "cell_type": "markdown",
      "source": [
        "\n",
        "Q7. Write a program to convert prefix expression to infix expression.\n"
      ],
      "metadata": {
        "id": "xzrc3mYeyvzf"
      }
    },
    {
      "cell_type": "code",
      "source": [
        "def prefix_to_infix(expression: str) -> str:\n",
        "    stack = []\n",
        "    for char in reversed(expression):\n",
        "        if char.isalpha():\n",
        "            stack.append(char)\n",
        "        else:\n",
        "            operand1 = stack.pop()\n",
        "            operand2 = stack.pop()\n",
        "            stack.append(f\"({operand1}{char}{operand2})\")\n",
        "    return stack.pop()\n",
        "\n",
        "prefix_expression = \"*+AB-CD\"\n",
        "infix_expression = prefix_to_infix(prefix_expression)\n",
        "print(f\"Infix expression: {infix_expression}\")\n"
      ],
      "metadata": {
        "colab": {
          "base_uri": "https://localhost:8080/"
        },
        "id": "IZ53BSJty_rW",
        "outputId": "4d90b200-a02d-46d1-a51e-6802f44c0b88"
      },
      "execution_count": 4,
      "outputs": [
        {
          "output_type": "stream",
          "name": "stdout",
          "text": [
            "Infix expression: ((A+B)*(C-D))\n"
          ]
        }
      ]
    },
    {
      "cell_type": "markdown",
      "source": [
        "\n",
        "Q8. Write a program to check if all the brackets are closed in a given code snippet.\n"
      ],
      "metadata": {
        "id": "EANSKYwzyvWg"
      }
    },
    {
      "cell_type": "code",
      "source": [
        "def is_valid_parentheses(s):\n",
        "    stack = []\n",
        "    mapping = {\")\": \"(\", \"}\": \"{\", \"]\": \"[\"}\n",
        "    for char in s:\n",
        "        if char in mapping:\n",
        "            top_element = stack.pop() if stack else '#'\n",
        "            if mapping[char] != top_element:\n",
        "                return False\n",
        "        else:\n",
        "            stack.append(char)\n",
        "    return not stack\n",
        "\n",
        "# Example usage\n",
        "code_snippet = \"{[()]}\"\n",
        "result = is_valid_parentheses(code_snippet)\n",
        "print(\"Are all brackets closed?\", result)\n"
      ],
      "metadata": {
        "colab": {
          "base_uri": "https://localhost:8080/"
        },
        "id": "2VF4goilzAdG",
        "outputId": "eb8ed29f-b7ce-4818-f5da-87f6e1dd72a1"
      },
      "execution_count": 5,
      "outputs": [
        {
          "output_type": "stream",
          "name": "stdout",
          "text": [
            "Are all brackets closed? True\n"
          ]
        }
      ]
    },
    {
      "cell_type": "markdown",
      "source": [
        "\n",
        "Q9. Write a program to reverse a stack.\n"
      ],
      "metadata": {
        "id": "fSZFP1Wey4lu"
      }
    },
    {
      "cell_type": "code",
      "source": [
        "def reverse_stack(stack):\n",
        "    if not stack:\n",
        "        return\n",
        "    temp = stack.pop()\n",
        "    reverse_stack(stack)\n",
        "    insert_at_bottom(stack, temp)\n",
        "\n",
        "def insert_at_bottom(stack, item):\n",
        "    if not stack:\n",
        "        stack.append(item)\n",
        "        return\n",
        "    temp = stack.pop()\n",
        "    insert_at_bottom(stack, item)\n",
        "    stack.append(temp)\n",
        "\n",
        "# Example usage\n",
        "stack = [1, 2, 3, 4, 5]\n",
        "print(\"Original stack:\", stack)\n",
        "reverse_stack(stack)\n",
        "print(\"Reversed stack:\", stack)\n"
      ],
      "metadata": {
        "colab": {
          "base_uri": "https://localhost:8080/"
        },
        "id": "D20wEYwkzA2m",
        "outputId": "d9d996cb-43ad-4f8c-a154-f6e31a5d641e"
      },
      "execution_count": 6,
      "outputs": [
        {
          "output_type": "stream",
          "name": "stdout",
          "text": [
            "Original stack: [1, 2, 3, 4, 5]\n",
            "Reversed stack: [5, 4, 3, 2, 1]\n"
          ]
        }
      ]
    },
    {
      "cell_type": "markdown",
      "source": [
        "\n",
        "Q10. Write a program to find the smallest number using a stack."
      ],
      "metadata": {
        "id": "kivJFAQjy7TW"
      }
    },
    {
      "cell_type": "code",
      "source": [
        "class MinStack:\n",
        "    def __init__(self):\n",
        "        self.stack = []\n",
        "        self.min_stack = []\n",
        "\n",
        "    def push(self, x):\n",
        "        self.stack.append(x)\n",
        "        if not self.min_stack or x <= self.min_stack[-1]:\n",
        "            self.min_stack.append(x)\n",
        "\n",
        "    def pop(self):\n",
        "        if self.stack[-1] == self.min_stack[-1]:\n",
        "            self.min_stack.pop()\n",
        "        return self.stack.pop()\n",
        "\n",
        "    def top(self):\n",
        "        return self.stack[-1]\n",
        "\n",
        "    def get_min(self):\n",
        "        return self.min_stack[-1]\n",
        "\n",
        "# Example usage\n",
        "stack = MinStack()\n",
        "stack.push(5)\n",
        "stack.push(2)\n",
        "stack.push(3)\n",
        "stack.push(1)\n",
        "print(\"Smallest number in the stack:\", stack.get_min())\n"
      ],
      "metadata": {
        "colab": {
          "base_uri": "https://localhost:8080/"
        },
        "id": "MwK_-OMUylrA",
        "outputId": "1759db85-e1cd-4951-ff74-37710015a6dd"
      },
      "execution_count": 7,
      "outputs": [
        {
          "output_type": "stream",
          "name": "stdout",
          "text": [
            "Smallest number in the stack: 1\n"
          ]
        }
      ]
    }
  ]
}